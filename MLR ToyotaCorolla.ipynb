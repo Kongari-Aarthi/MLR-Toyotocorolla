{
 "cells": [
  {
   "cell_type": "code",
   "execution_count": 24,
   "id": "db5a28e9",
   "metadata": {},
   "outputs": [],
   "source": [
    "import pandas as pd\n",
    "df1 = pd.read_csv(\"ToyotaCorolla.csv\", encoding='iso-8859-1')"
   ]
  },
  {
   "cell_type": "code",
   "execution_count": 25,
   "id": "044b7da2",
   "metadata": {},
   "outputs": [
    {
     "name": "stdout",
     "output_type": "stream",
     "text": [
      "        Id                                              Model  Price  \\\n",
      "0        1      TOYOTA Corolla 2.0 D4D HATCHB TERRA 2/3-Doors  13500   \n",
      "1        2      TOYOTA Corolla 2.0 D4D HATCHB TERRA 2/3-Doors  13750   \n",
      "2        3      TOYOTA Corolla 2.0 D4D HATCHB TERRA 2/3-Doors  13950   \n",
      "3        4      TOYOTA Corolla 2.0 D4D HATCHB TERRA 2/3-Doors  14950   \n",
      "4        5        TOYOTA Corolla 2.0 D4D HATCHB SOL 2/3-Doors  13750   \n",
      "...    ...                                                ...    ...   \n",
      "1431  1438         TOYOTA Corolla 1.3 16V HATCHB G6 2/3-Doors   7500   \n",
      "1432  1439  TOYOTA Corolla 1.3 16V HATCHB LINEA TERRA 2/3-...  10845   \n",
      "1433  1440  TOYOTA Corolla 1.3 16V HATCHB LINEA TERRA 2/3-...   8500   \n",
      "1434  1441  TOYOTA Corolla 1.3 16V HATCHB LINEA TERRA 2/3-...   7250   \n",
      "1435  1442        TOYOTA Corolla 1.6 LB LINEA TERRA 4/5-Doors   6950   \n",
      "\n",
      "      Age_08_04  Mfg_Month  Mfg_Year     KM Fuel_Type   HP  Met_Color  ...  \\\n",
      "0            23         10      2002  46986    Diesel   90          1  ...   \n",
      "1            23         10      2002  72937    Diesel   90          1  ...   \n",
      "2            24          9      2002  41711    Diesel   90          1  ...   \n",
      "3            26          7      2002  48000    Diesel   90          0  ...   \n",
      "4            30          3      2002  38500    Diesel   90          0  ...   \n",
      "...         ...        ...       ...    ...       ...  ...        ...  ...   \n",
      "1431         69         12      1998  20544    Petrol   86          1  ...   \n",
      "1432         72          9      1998  19000    Petrol   86          0  ...   \n",
      "1433         71         10      1998  17016    Petrol   86          0  ...   \n",
      "1434         70         11      1998  16916    Petrol   86          1  ...   \n",
      "1435         76          5      1998      1    Petrol  110          0  ...   \n",
      "\n",
      "     Central_Lock  Powered_Windows  Power_Steering  Radio  Mistlamps  \\\n",
      "0               1                1               1      0          0   \n",
      "1               1                0               1      0          0   \n",
      "2               0                0               1      0          0   \n",
      "3               0                0               1      0          0   \n",
      "4               1                1               1      0          1   \n",
      "...           ...              ...             ...    ...        ...   \n",
      "1431            1                1               1      0          1   \n",
      "1432            0                0               1      0          0   \n",
      "1433            0                0               1      0          0   \n",
      "1434            0                0               0      0          0   \n",
      "1435            0                0               1      0          0   \n",
      "\n",
      "      Sport_Model  Backseat_Divider  Metallic_Rim  Radio_cassette  Tow_Bar  \n",
      "0               0                 1             0               0        0  \n",
      "1               0                 1             0               0        0  \n",
      "2               0                 1             0               0        0  \n",
      "3               0                 1             0               0        0  \n",
      "4               0                 1             0               0        0  \n",
      "...           ...               ...           ...             ...      ...  \n",
      "1431            1                 1             0               0        0  \n",
      "1432            1                 1             0               0        0  \n",
      "1433            0                 1             0               0        0  \n",
      "1434            0                 1             0               0        0  \n",
      "1435            0                 0             0               0        0  \n",
      "\n",
      "[1436 rows x 38 columns]\n",
      "(1436, 38)\n"
     ]
    }
   ],
   "source": [
    "# print the dataframe and its shape\n",
    "print(df1)\n",
    "print(df1.shape)"
   ]
  },
  {
   "cell_type": "code",
   "execution_count": 26,
   "id": "7e1275bb",
   "metadata": {},
   "outputs": [
    {
     "data": {
      "text/plain": [
       "(1436, 9)"
      ]
     },
     "execution_count": 26,
     "metadata": {},
     "output_type": "execute_result"
    }
   ],
   "source": [
    "#drop the columns\n",
    "df = df1.drop(df1.columns[[0,1,4,5,7,9,10,11,14,18,19,20,21,22,23,24,25,26,27,28,29,30,31,32,33,34,35,36,37]],axis=1)\n",
    "df.shape"
   ]
  },
  {
   "cell_type": "code",
   "execution_count": 27,
   "id": "a82c0bee",
   "metadata": {},
   "outputs": [
    {
     "data": {
      "text/html": [
       "<div>\n",
       "<style scoped>\n",
       "    .dataframe tbody tr th:only-of-type {\n",
       "        vertical-align: middle;\n",
       "    }\n",
       "\n",
       "    .dataframe tbody tr th {\n",
       "        vertical-align: top;\n",
       "    }\n",
       "\n",
       "    .dataframe thead th {\n",
       "        text-align: right;\n",
       "    }\n",
       "</style>\n",
       "<table border=\"1\" class=\"dataframe\">\n",
       "  <thead>\n",
       "    <tr style=\"text-align: right;\">\n",
       "      <th></th>\n",
       "      <th>Price</th>\n",
       "      <th>Age_08_04</th>\n",
       "      <th>KM</th>\n",
       "      <th>HP</th>\n",
       "      <th>cc</th>\n",
       "      <th>Doors</th>\n",
       "      <th>Gears</th>\n",
       "      <th>Quarterly_Tax</th>\n",
       "      <th>Weight</th>\n",
       "    </tr>\n",
       "  </thead>\n",
       "  <tbody>\n",
       "    <tr>\n",
       "      <th>Price</th>\n",
       "      <td>1.000000</td>\n",
       "      <td>-0.876590</td>\n",
       "      <td>-0.569960</td>\n",
       "      <td>0.314990</td>\n",
       "      <td>0.126389</td>\n",
       "      <td>0.185326</td>\n",
       "      <td>0.063104</td>\n",
       "      <td>0.219197</td>\n",
       "      <td>0.581198</td>\n",
       "    </tr>\n",
       "    <tr>\n",
       "      <th>Age_08_04</th>\n",
       "      <td>-0.876590</td>\n",
       "      <td>1.000000</td>\n",
       "      <td>0.505672</td>\n",
       "      <td>-0.156622</td>\n",
       "      <td>-0.098084</td>\n",
       "      <td>-0.148359</td>\n",
       "      <td>-0.005364</td>\n",
       "      <td>-0.198431</td>\n",
       "      <td>-0.470253</td>\n",
       "    </tr>\n",
       "    <tr>\n",
       "      <th>KM</th>\n",
       "      <td>-0.569960</td>\n",
       "      <td>0.505672</td>\n",
       "      <td>1.000000</td>\n",
       "      <td>-0.333538</td>\n",
       "      <td>0.102683</td>\n",
       "      <td>-0.036197</td>\n",
       "      <td>0.015023</td>\n",
       "      <td>0.278165</td>\n",
       "      <td>-0.028598</td>\n",
       "    </tr>\n",
       "    <tr>\n",
       "      <th>HP</th>\n",
       "      <td>0.314990</td>\n",
       "      <td>-0.156622</td>\n",
       "      <td>-0.333538</td>\n",
       "      <td>1.000000</td>\n",
       "      <td>0.035856</td>\n",
       "      <td>0.092424</td>\n",
       "      <td>0.209477</td>\n",
       "      <td>-0.298432</td>\n",
       "      <td>0.089614</td>\n",
       "    </tr>\n",
       "    <tr>\n",
       "      <th>cc</th>\n",
       "      <td>0.126389</td>\n",
       "      <td>-0.098084</td>\n",
       "      <td>0.102683</td>\n",
       "      <td>0.035856</td>\n",
       "      <td>1.000000</td>\n",
       "      <td>0.079903</td>\n",
       "      <td>0.014629</td>\n",
       "      <td>0.306996</td>\n",
       "      <td>0.335637</td>\n",
       "    </tr>\n",
       "    <tr>\n",
       "      <th>Doors</th>\n",
       "      <td>0.185326</td>\n",
       "      <td>-0.148359</td>\n",
       "      <td>-0.036197</td>\n",
       "      <td>0.092424</td>\n",
       "      <td>0.079903</td>\n",
       "      <td>1.000000</td>\n",
       "      <td>-0.160141</td>\n",
       "      <td>0.109363</td>\n",
       "      <td>0.302618</td>\n",
       "    </tr>\n",
       "    <tr>\n",
       "      <th>Gears</th>\n",
       "      <td>0.063104</td>\n",
       "      <td>-0.005364</td>\n",
       "      <td>0.015023</td>\n",
       "      <td>0.209477</td>\n",
       "      <td>0.014629</td>\n",
       "      <td>-0.160141</td>\n",
       "      <td>1.000000</td>\n",
       "      <td>-0.005452</td>\n",
       "      <td>0.020613</td>\n",
       "    </tr>\n",
       "    <tr>\n",
       "      <th>Quarterly_Tax</th>\n",
       "      <td>0.219197</td>\n",
       "      <td>-0.198431</td>\n",
       "      <td>0.278165</td>\n",
       "      <td>-0.298432</td>\n",
       "      <td>0.306996</td>\n",
       "      <td>0.109363</td>\n",
       "      <td>-0.005452</td>\n",
       "      <td>1.000000</td>\n",
       "      <td>0.626134</td>\n",
       "    </tr>\n",
       "    <tr>\n",
       "      <th>Weight</th>\n",
       "      <td>0.581198</td>\n",
       "      <td>-0.470253</td>\n",
       "      <td>-0.028598</td>\n",
       "      <td>0.089614</td>\n",
       "      <td>0.335637</td>\n",
       "      <td>0.302618</td>\n",
       "      <td>0.020613</td>\n",
       "      <td>0.626134</td>\n",
       "      <td>1.000000</td>\n",
       "    </tr>\n",
       "  </tbody>\n",
       "</table>\n",
       "</div>"
      ],
      "text/plain": [
       "                  Price  Age_08_04        KM        HP        cc     Doors  \\\n",
       "Price          1.000000  -0.876590 -0.569960  0.314990  0.126389  0.185326   \n",
       "Age_08_04     -0.876590   1.000000  0.505672 -0.156622 -0.098084 -0.148359   \n",
       "KM            -0.569960   0.505672  1.000000 -0.333538  0.102683 -0.036197   \n",
       "HP             0.314990  -0.156622 -0.333538  1.000000  0.035856  0.092424   \n",
       "cc             0.126389  -0.098084  0.102683  0.035856  1.000000  0.079903   \n",
       "Doors          0.185326  -0.148359 -0.036197  0.092424  0.079903  1.000000   \n",
       "Gears          0.063104  -0.005364  0.015023  0.209477  0.014629 -0.160141   \n",
       "Quarterly_Tax  0.219197  -0.198431  0.278165 -0.298432  0.306996  0.109363   \n",
       "Weight         0.581198  -0.470253 -0.028598  0.089614  0.335637  0.302618   \n",
       "\n",
       "                  Gears  Quarterly_Tax    Weight  \n",
       "Price          0.063104       0.219197  0.581198  \n",
       "Age_08_04     -0.005364      -0.198431 -0.470253  \n",
       "KM             0.015023       0.278165 -0.028598  \n",
       "HP             0.209477      -0.298432  0.089614  \n",
       "cc             0.014629       0.306996  0.335637  \n",
       "Doors         -0.160141       0.109363  0.302618  \n",
       "Gears          1.000000      -0.005452  0.020613  \n",
       "Quarterly_Tax -0.005452       1.000000  0.626134  \n",
       "Weight         0.020613       0.626134  1.000000  "
      ]
     },
     "execution_count": 27,
     "metadata": {},
     "output_type": "execute_result"
    }
   ],
   "source": [
    "#step2:data visualization\n",
    "#scatterplot\n",
    "df.corr()"
   ]
  },
  {
   "cell_type": "code",
   "execution_count": 29,
   "id": "671eeac7",
   "metadata": {},
   "outputs": [],
   "source": [
    "\n",
    "#step3:seperate the variables\n",
    "#model-1\n",
    "X=df.iloc[:,1:] \n",
    "#r2score=86% but multicollinearity issues existed  but VIF less than 5 so we can \"model is free no multicollinearity issues\"\n"
   ]
  },
  {
   "cell_type": "code",
   "execution_count": 30,
   "id": "6e94af3e",
   "metadata": {},
   "outputs": [],
   "source": [
    "#model-2 \n",
    "X = df[[\"Age_08_04\",\"Weight\"]]\n",
    "Y=df[\"Price\"]\n",
    "#r2score=80.5% and  no multicollinearity issues exist but VIF less than 5 so we can \"model is free no multicollinearity issues\"\n"
   ]
  },
  {
   "cell_type": "code",
   "execution_count": 31,
   "id": "f7288eff",
   "metadata": {},
   "outputs": [],
   "source": [
    "#model-3 \n",
    "X = df[[\"Age_08_04\",\"Weight\",\"KM\"]]\n",
    "Y=df[\"Price\"]\n",
    "#r2score=84.8% and multicollinearity issues exist but VIF less than 5 so we can \"model is free no multicollinearity issues\"\n"
   ]
  },
  {
   "cell_type": "code",
   "execution_count": 32,
   "id": "16c81122",
   "metadata": {},
   "outputs": [],
   "source": [
    "#model-4 \n",
    "X = df[[\"Age_08_04\",\"Weight\",\"HP\"]]\n",
    "Y=df[\"Price\"]\n",
    "#r2score==83.6% and multicollinearity issues exist but VIF less than 5 so we can \"model is free no multicollinearity issues\"\n"
   ]
  },
  {
   "cell_type": "code",
   "execution_count": 33,
   "id": "750b88f8",
   "metadata": {},
   "outputs": [],
   "source": [
    "#model-5 \n",
    "X = df[[\"Age_08_04\",\"Weight\",\"Doors\"]]\n",
    "Y=df[\"Price\"]\n",
    "#r2score=80.5% and multicollinearity issues exist but VIF less than 5 so we can \"model is free no multicollinearity issues\"\n"
   ]
  },
  {
   "cell_type": "code",
   "execution_count": 34,
   "id": "22c323df",
   "metadata": {},
   "outputs": [],
   "source": [
    "#model-6 \n",
    "X = df[[\"Age_08_04\",\"Weight\",\"cc\"]]\n",
    "Y=df[\"Price\"]\n",
    "#r2score=80.6% and multicollinearity issues exist but VIF less than 5 so we can \"model is free no multicollinearity issues\"\n"
   ]
  },
  {
   "cell_type": "code",
   "execution_count": 35,
   "id": "2e097343",
   "metadata": {},
   "outputs": [],
   "source": [
    "#model-7 \n",
    "X = df[[\"Age_08_04\",\"Weight\",\"KM\",\"HP\",\"Gears\",\"Quarterly_Tax\"]]\n",
    "Y=df[\"Price\"]\n",
    "#r2score=86.4% and no multicollinearity issues exist\n"
   ]
  },
  {
   "cell_type": "code",
   "execution_count": 36,
   "id": "8d86f05d",
   "metadata": {},
   "outputs": [
    {
     "data": {
      "text/plain": [
       "LinearRegression()"
      ]
     },
     "execution_count": 36,
     "metadata": {},
     "output_type": "execute_result"
    }
   ],
   "source": [
    "#step4:model fitting----> Bo + B1x1\n",
    "from sklearn.linear_model import LinearRegression\n",
    "LR=LinearRegression()\n",
    "LR.fit(X,Y)#exactly fitting the straight line through the datapoints\n"
   ]
  },
  {
   "cell_type": "code",
   "execution_count": 37,
   "id": "a27934b2",
   "metadata": {},
   "outputs": [
    {
     "data": {
      "text/plain": [
       "array([-1.21699859e+02,  1.67251104e+01, -2.09381862e-02,  3.13268902e+01,\n",
       "        5.98965326e+02,  3.73713532e+00])"
      ]
     },
     "execution_count": 37,
     "metadata": {},
     "output_type": "execute_result"
    }
   ],
   "source": [
    "\n",
    "LR.intercept_#Bo value or c value\n",
    "LR.coef_#B1 value or m value\n"
   ]
  },
  {
   "cell_type": "code",
   "execution_count": 38,
   "id": "8be46d4c",
   "metadata": {},
   "outputs": [
    {
     "data": {
      "text/plain": [
       "0       13500\n",
       "1       13750\n",
       "2       13950\n",
       "3       14950\n",
       "4       13750\n",
       "        ...  \n",
       "1431     7500\n",
       "1432    10845\n",
       "1433     8500\n",
       "1434     7250\n",
       "1435     6950\n",
       "Name: Price, Length: 1436, dtype: int64"
      ]
     },
     "execution_count": 38,
     "metadata": {},
     "output_type": "execute_result"
    }
   ],
   "source": [
    "#step5:predict the values\n",
    "Y_pred=LR.predict(X)\n",
    "Y"
   ]
  },
  {
   "cell_type": "code",
   "execution_count": 39,
   "id": "048b6ff2",
   "metadata": {},
   "outputs": [
    {
     "name": "stdout",
     "output_type": "stream",
     "text": [
      "mean squared error: 1793203.82\n",
      "root mean squared error: 1339.11\n",
      "R-Square Value: 0.86\n"
     ]
    }
   ],
   "source": [
    "#step6:metrics\n",
    "import numpy as np\n",
    "from sklearn.metrics import mean_squared_error,r2_score\n",
    "mse=mean_squared_error(Y,Y_pred)\n",
    "r2=r2_score(Y, Y_pred)\n",
    "print(\"mean squared error:\",mse.round(2))\n",
    "print(\"root mean squared error:\",np.sqrt(mse).round(2))\n",
    "print(\"R-Square Value:\",r2.round(2))"
   ]
  },
  {
   "cell_type": "code",
   "execution_count": 40,
   "id": "e2f57703",
   "metadata": {},
   "outputs": [
    {
     "data": {
      "text/html": [
       "<table class=\"simpletable\">\n",
       "<caption>OLS Regression Results</caption>\n",
       "<tr>\n",
       "  <th>Dep. Variable:</th>          <td>Price</td>      <th>  R-squared:         </th> <td>   0.864</td> \n",
       "</tr>\n",
       "<tr>\n",
       "  <th>Model:</th>                   <td>OLS</td>       <th>  Adj. R-squared:    </th> <td>   0.863</td> \n",
       "</tr>\n",
       "<tr>\n",
       "  <th>Method:</th>             <td>Least Squares</td>  <th>  F-statistic:       </th> <td>   1508.</td> \n",
       "</tr>\n",
       "<tr>\n",
       "  <th>Date:</th>             <td>Sat, 06 May 2023</td> <th>  Prob (F-statistic):</th>  <td>  0.00</td>  \n",
       "</tr>\n",
       "<tr>\n",
       "  <th>Time:</th>                 <td>10:57:17</td>     <th>  Log-Likelihood:    </th> <td> -12376.</td> \n",
       "</tr>\n",
       "<tr>\n",
       "  <th>No. Observations:</th>      <td>  1436</td>      <th>  AIC:               </th> <td>2.477e+04</td>\n",
       "</tr>\n",
       "<tr>\n",
       "  <th>Df Residuals:</th>          <td>  1429</td>      <th>  BIC:               </th> <td>2.480e+04</td>\n",
       "</tr>\n",
       "<tr>\n",
       "  <th>Df Model:</th>              <td>     6</td>      <th>                     </th>     <td> </td>    \n",
       "</tr>\n",
       "<tr>\n",
       "  <th>Covariance Type:</th>      <td>nonrobust</td>    <th>                     </th>     <td> </td>    \n",
       "</tr>\n",
       "</table>\n",
       "<table class=\"simpletable\">\n",
       "<tr>\n",
       "        <td></td>           <th>coef</th>     <th>std err</th>      <th>t</th>      <th>P>|t|</th>  <th>[0.025</th>    <th>0.975]</th>  \n",
       "</tr>\n",
       "<tr>\n",
       "  <th>const</th>         <td>-5478.4778</td> <td> 1408.562</td> <td>   -3.889</td> <td> 0.000</td> <td>-8241.548</td> <td>-2715.407</td>\n",
       "</tr>\n",
       "<tr>\n",
       "  <th>Age_08_04</th>     <td> -121.6999</td> <td>    2.615</td> <td>  -46.534</td> <td> 0.000</td> <td> -126.830</td> <td> -116.570</td>\n",
       "</tr>\n",
       "<tr>\n",
       "  <th>Weight</th>        <td>   16.7251</td> <td>    1.020</td> <td>   16.393</td> <td> 0.000</td> <td>   14.724</td> <td>   18.726</td>\n",
       "</tr>\n",
       "<tr>\n",
       "  <th>KM</th>            <td>   -0.0209</td> <td>    0.001</td> <td>  -16.769</td> <td> 0.000</td> <td>   -0.023</td> <td>   -0.018</td>\n",
       "</tr>\n",
       "<tr>\n",
       "  <th>HP</th>            <td>   31.3269</td> <td>    2.799</td> <td>   11.191</td> <td> 0.000</td> <td>   25.836</td> <td>   36.818</td>\n",
       "</tr>\n",
       "<tr>\n",
       "  <th>Gears</th>         <td>  598.9653</td> <td>  193.441</td> <td>    3.096</td> <td> 0.002</td> <td>  219.507</td> <td>  978.424</td>\n",
       "</tr>\n",
       "<tr>\n",
       "  <th>Quarterly_Tax</th> <td>    3.7371</td> <td>    1.296</td> <td>    2.883</td> <td> 0.004</td> <td>    1.194</td> <td>    6.280</td>\n",
       "</tr>\n",
       "</table>\n",
       "<table class=\"simpletable\">\n",
       "<tr>\n",
       "  <th>Omnibus:</th>       <td>147.966</td> <th>  Durbin-Watson:     </th> <td>   1.540</td> \n",
       "</tr>\n",
       "<tr>\n",
       "  <th>Prob(Omnibus):</th> <td> 0.000</td>  <th>  Jarque-Bera (JB):  </th> <td> 966.959</td> \n",
       "</tr>\n",
       "<tr>\n",
       "  <th>Skew:</th>          <td>-0.207</td>  <th>  Prob(JB):          </th> <td>1.07e-210</td>\n",
       "</tr>\n",
       "<tr>\n",
       "  <th>Kurtosis:</th>      <td> 6.999</td>  <th>  Cond. No.          </th> <td>3.12e+06</td> \n",
       "</tr>\n",
       "</table><br/><br/>Notes:<br/>[1] Standard Errors assume that the covariance matrix of the errors is correctly specified.<br/>[2] The condition number is large, 3.12e+06. This might indicate that there are<br/>strong multicollinearity or other numerical problems."
      ],
      "text/plain": [
       "<class 'statsmodels.iolib.summary.Summary'>\n",
       "\"\"\"\n",
       "                            OLS Regression Results                            \n",
       "==============================================================================\n",
       "Dep. Variable:                  Price   R-squared:                       0.864\n",
       "Model:                            OLS   Adj. R-squared:                  0.863\n",
       "Method:                 Least Squares   F-statistic:                     1508.\n",
       "Date:                Sat, 06 May 2023   Prob (F-statistic):               0.00\n",
       "Time:                        10:57:17   Log-Likelihood:                -12376.\n",
       "No. Observations:                1436   AIC:                         2.477e+04\n",
       "Df Residuals:                    1429   BIC:                         2.480e+04\n",
       "Df Model:                           6                                         \n",
       "Covariance Type:            nonrobust                                         \n",
       "=================================================================================\n",
       "                    coef    std err          t      P>|t|      [0.025      0.975]\n",
       "---------------------------------------------------------------------------------\n",
       "const         -5478.4778   1408.562     -3.889      0.000   -8241.548   -2715.407\n",
       "Age_08_04      -121.6999      2.615    -46.534      0.000    -126.830    -116.570\n",
       "Weight           16.7251      1.020     16.393      0.000      14.724      18.726\n",
       "KM               -0.0209      0.001    -16.769      0.000      -0.023      -0.018\n",
       "HP               31.3269      2.799     11.191      0.000      25.836      36.818\n",
       "Gears           598.9653    193.441      3.096      0.002     219.507     978.424\n",
       "Quarterly_Tax     3.7371      1.296      2.883      0.004       1.194       6.280\n",
       "==============================================================================\n",
       "Omnibus:                      147.966   Durbin-Watson:                   1.540\n",
       "Prob(Omnibus):                  0.000   Jarque-Bera (JB):              966.959\n",
       "Skew:                          -0.207   Prob(JB):                    1.07e-210\n",
       "Kurtosis:                       6.999   Cond. No.                     3.12e+06\n",
       "==============================================================================\n",
       "\n",
       "Notes:\n",
       "[1] Standard Errors assume that the covariance matrix of the errors is correctly specified.\n",
       "[2] The condition number is large, 3.12e+06. This might indicate that there are\n",
       "strong multicollinearity or other numerical problems.\n",
       "\"\"\""
      ]
     },
     "execution_count": 40,
     "metadata": {},
     "output_type": "execute_result"
    }
   ],
   "source": [
    "#statsmodels\n",
    "import statsmodels.api as sma\n",
    "X_new=sma.add_constant(X)\n",
    "lm2=sma.OLS(Y, X_new).fit()\n",
    "lm2.summary()"
   ]
  },
  {
   "cell_type": "code",
   "execution_count": 41,
   "id": "558983d0",
   "metadata": {},
   "outputs": [],
   "source": [
    "#VARIANCE INFLUENCE FACTOR\n",
    "#VIF VALUE\n",
    "\n",
    "X_new_2=df[[\"Weight\",\"KM\",\"HP\",\"cc\",\"Doors\",\"Gears\",\"Quarterly_Tax\"]]\n",
    "Y_new=df[\"Age_08_04\"] "
   ]
  },
  {
   "cell_type": "code",
   "execution_count": 42,
   "id": "269a9005",
   "metadata": {},
   "outputs": [],
   "source": [
    "X_new_3=sma.add_constant(X_new_2)\n",
    "lm3=sma.OLS(Y_new,X_new_3).fit()\n",
    "r_2=lm3.rsquared"
   ]
  },
  {
   "cell_type": "code",
   "execution_count": 43,
   "id": "d0c2f0c0",
   "metadata": {},
   "outputs": [
    {
     "data": {
      "text/plain": [
       "1.8846198056602872"
      ]
     },
     "execution_count": 43,
     "metadata": {},
     "output_type": "execute_result"
    }
   ],
   "source": [
    "vif=1/(1-r_2)\n",
    "vif"
   ]
  },
  {
   "cell_type": "code",
   "execution_count": 44,
   "id": "5ea43f68",
   "metadata": {},
   "outputs": [],
   "source": [
    "\n",
    "# From above analysis model-7 is getting higher r2_score=86% with no multicollinearity issues,\n",
    "# Model-1 is also good with r2_score=86% and muliticollinearity issues existed but VIF value is less than 5 so this model also to be considered.\n",
    "# Comparing these two models model-7 is good."
   ]
  },
  {
   "cell_type": "code",
   "execution_count": null,
   "id": "185c9c08",
   "metadata": {},
   "outputs": [],
   "source": []
  }
 ],
 "metadata": {
  "kernelspec": {
   "display_name": "Python 3 (ipykernel)",
   "language": "python",
   "name": "python3"
  },
  "language_info": {
   "codemirror_mode": {
    "name": "ipython",
    "version": 3
   },
   "file_extension": ".py",
   "mimetype": "text/x-python",
   "name": "python",
   "nbconvert_exporter": "python",
   "pygments_lexer": "ipython3",
   "version": "3.9.13"
  }
 },
 "nbformat": 4,
 "nbformat_minor": 5
}
